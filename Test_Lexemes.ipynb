{
 "cells": [
  {
   "cell_type": "code",
   "execution_count": 3,
   "source": [
    "from Lexemes import *"
   ],
   "outputs": [],
   "metadata": {}
  },
  {
   "cell_type": "code",
   "execution_count": 4,
   "source": [
    "# print(Token_Enum)"
   ],
   "outputs": [],
   "metadata": {}
  },
  {
   "cell_type": "code",
   "execution_count": 5,
   "source": [
    "# print(Lexeme_State_Enum)"
   ],
   "outputs": [],
   "metadata": {}
  },
  {
   "cell_type": "code",
   "execution_count": 6,
   "source": [
    "# char_stream = list(\"**\")+[None]"
   ],
   "outputs": [],
   "metadata": {}
  },
  {
   "cell_type": "code",
   "execution_count": 7,
   "source": [
    "# next_char = char_stream.pop(0)\n",
    "\n",
    "# print(next_char)\n",
    "\n",
    "# print(power.feed(next_char))\n",
    "# print(multiply.feed(next_char))\n",
    "# print(com_close.feed(next_char))\n",
    "# print(div.feed(next_char))"
   ],
   "outputs": [],
   "metadata": {}
  },
  {
   "cell_type": "code",
   "execution_count": 8,
   "source": [
    "# next_char = char_stream.pop(0)\n",
    "\n",
    "# print(power.feed(next_char))\n",
    "# print(multiply.feed(next_char))\n",
    "# print(com_close.feed(next_char))\n",
    "# print(div.feed(next_char))"
   ],
   "outputs": [],
   "metadata": {}
  },
  {
   "cell_type": "code",
   "execution_count": 9,
   "source": [
    "lexemes = [\n",
    "    Lxm_Op_Power,Lxm_Op_Int_Division,Lxm_Op_Bitshift_Right,Lxm_Op_Bitshift_Left,Lxm_Op_And,Lxm_Op_Or,Lxm_Op_Not_Equal,Lxm_Op_Double_Equal,Lxm_Op_Less_Equal,Lxm_Op_Greater_Equal,\n",
    "    Lxm_Op_Add,Lxm_Op_Subtract,Lxm_Op_Multiply,Lxm_Op_Division,Lxm_Op_Modulo,Lxm_Op_Bitwise_And,Lxm_Op_Bitwise_Or,Lxm_Op_Bitwise_Xor,Lxm_Op_Bitwise_Not,Lxm_Op_Not,Lxm_Op_Less,Lxm_Op_Greater,Lxm_Op_Equal,\n",
    "    Lxm_Close_Paren_Open,Lxm_Close_Paren_Close,Lxm_Close_Square_Open,Lxm_Close_Square_Close,Lxm_Close_Curly_Open,Lxm_Close_Curly_Close,\n",
    "    Lxm_Keywords_If,Lxm_Keywords_Else,Lxm_Keywords_While,\n",
    "    Lxm_Function_Log,Lxm_Function_Print,Lxm_Function_To_Int,Lxm_Function_To_Float,Lxm_Function_To_Bool,Lxm_Function_To_String,\n",
    "    Lxm_Line_End,\n",
    "]\n",
    "lexemes = [l() for l in lexemes]\n",
    "tests = [l.get_token() for l in lexemes]\n",
    "print(tests)"
   ],
   "outputs": [
    {
     "output_type": "stream",
     "name": "stdout",
     "text": [
      "['**', '//', '>>', '<<', '&&', '||', '!=', '==', '<=', '>=', '+', '-', '*', '/', '%', '&', '|', '^', '~', '!', '<', '>', '=', '(', ')', '[', ']', '{', '}', 'if', 'else', 'while', 'log', 'print', 'to_int', 'to_float', 'to_bool', 'to_string', ';']\n"
     ]
    }
   ],
   "metadata": {}
  },
  {
   "cell_type": "code",
   "execution_count": 10,
   "source": [
    "def feed_lexemes(input_string, lexemes):\n",
    "    char_stream = list(input_string)\n",
    "\n",
    "    [l.reset() for l in lexemes]\n",
    "\n",
    "    while len(char_stream) and True in [l.is_open() for l in lexemes]:\n",
    "        next_char = char_stream.pop(0)\n",
    "        [l.feed(next_char) for l in lexemes]\n",
    "\n",
    "    return [l for l in lexemes if l.is_complete()]"
   ],
   "outputs": [],
   "metadata": {}
  },
  {
   "cell_type": "code",
   "execution_count": 11,
   "source": [
    "def test_lexemes(lexemes, tests):\n",
    "    for test in tests:\n",
    "        results = feed_lexemes(input_string=test, lexemes=lexemes)\n",
    "        completed_lexemes = [str((l.get_token(), l.get_captured())) for l in results]\n",
    "        print(\"test: {}\\tresults: {}\".format(repr(test), completed_lexemes))"
   ],
   "outputs": [],
   "metadata": {}
  },
  {
   "cell_type": "code",
   "execution_count": 12,
   "source": [
    "test_lexemes(lexemes, tests)"
   ],
   "outputs": [
    {
     "output_type": "stream",
     "name": "stdout",
     "text": [
      "test: '**'\tresults: [\"('**', '**')\", \"('*', '*')\"]\n",
      "test: '//'\tresults: [\"('//', '//')\", \"('/', '/')\"]\n",
      "test: '>>'\tresults: [\"('>>', '>>')\", \"('>', '>')\"]\n",
      "test: '<<'\tresults: [\"('<<', '<<')\", \"('<', '<')\"]\n",
      "test: '&&'\tresults: [\"('&&', '&&')\", \"('&', '&')\"]\n",
      "test: '||'\tresults: [\"('||', '||')\", \"('|', '|')\"]\n",
      "test: '!='\tresults: [\"('!=', '!=')\", \"('!', '!')\"]\n",
      "test: '=='\tresults: [\"('==', '==')\", \"('=', '=')\"]\n",
      "test: '<='\tresults: [\"('<=', '<=')\", \"('<', '<')\"]\n",
      "test: '>='\tresults: [\"('>=', '>=')\", \"('>', '>')\"]\n",
      "test: '+'\tresults: [\"('+', '+')\"]\n",
      "test: '-'\tresults: [\"('-', '-')\"]\n",
      "test: '*'\tresults: [\"('*', '*')\"]\n",
      "test: '/'\tresults: [\"('/', '/')\"]\n",
      "test: '%'\tresults: [\"('%', '%')\"]\n",
      "test: '&'\tresults: [\"('&', '&')\"]\n",
      "test: '|'\tresults: [\"('|', '|')\"]\n",
      "test: '^'\tresults: [\"('^', '^')\"]\n",
      "test: '~'\tresults: [\"('~', '~')\"]\n",
      "test: '!'\tresults: [\"('!', '!')\"]\n",
      "test: '<'\tresults: [\"('<', '<')\"]\n",
      "test: '>'\tresults: [\"('>', '>')\"]\n",
      "test: '='\tresults: [\"('=', '=')\"]\n",
      "test: '('\tresults: [\"('(', '(')\"]\n",
      "test: ')'\tresults: [\"(')', ')')\"]\n",
      "test: '['\tresults: [\"('[', '[')\"]\n",
      "test: ']'\tresults: [\"(']', ']')\"]\n",
      "test: '{'\tresults: [\"('{', '{')\"]\n",
      "test: '}'\tresults: [\"('}', '}')\"]\n",
      "test: 'if'\tresults: [\"('if', 'if')\"]\n",
      "test: 'else'\tresults: [\"('else', 'else')\"]\n",
      "test: 'while'\tresults: [\"('while', 'while')\"]\n",
      "test: 'log'\tresults: [\"('log', 'log')\"]\n",
      "test: 'print'\tresults: [\"('print', 'print')\"]\n",
      "test: 'to_int'\tresults: [\"('to_int', 'to_int')\"]\n",
      "test: 'to_float'\tresults: [\"('to_float', 'to_float')\"]\n",
      "test: 'to_bool'\tresults: [\"('to_bool', 'to_bool')\"]\n",
      "test: 'to_string'\tresults: [\"('to_string', 'to_string')\"]\n",
      "test: ';'\tresults: [\"(';', ';')\"]\n"
     ]
    }
   ],
   "metadata": {}
  },
  {
   "cell_type": "code",
   "execution_count": 13,
   "source": [
    "int_lexeme = Lxm_Literals_Int()\n",
    "float_lexeme = Lxm_Literals_Float()\n",
    "bool_lexeme = Lxm_Literals_Bool()\n",
    "string_lexeme = Lxm_Literals_String()\n",
    "iden_lexeme = Lxm_Identifiers_Iden()\n",
    "comment_single_lexeme = Lxm_Comment_Single()\n",
    "comment_block_lexeme = Lxm_Comment_Block()"
   ],
   "outputs": [],
   "metadata": {}
  },
  {
   "cell_type": "code",
   "execution_count": 16,
   "source": [
    "lexemes = [int_lexeme, float_lexeme, bool_lexeme, string_lexeme, iden_lexeme, comment_single_lexeme, comment_block_lexeme]\n",
    "tests = [\n",
    "    '\"asdfsadfwefweuwhtu3t\"', '\"asdfsadfwefweu\\nwhtu3t\"',\n",
    "    \"123456\", \"-457645\", \"1\",\n",
    "    \"--123\", \".\", \"..\", \".*\", \"1*\", \".07\", \"1.17\", \"12.\", \"-.89\",\"-134.23\", \"-1453.\", \".12\", \"1.12.1\", \"--1453\",\n",
    "    \"True\", \"False\",\n",
    "    \"Var_1\", \"_1var_1\",  \"__iden__\", \"__1234__\", \"12_var\",\n",
    "    \"# This is a comment\\n\", \"/* This is\\nalso a\\n comment */\", \"/* *** */\"\n",
    "]"
   ],
   "outputs": [],
   "metadata": {}
  },
  {
   "cell_type": "code",
   "execution_count": 17,
   "source": [
    "test_lexemes(lexemes, tests)"
   ],
   "outputs": [
    {
     "output_type": "stream",
     "name": "stdout",
     "text": [
      "test: '\"asdfsadfwefweuwhtu3t\"'\tresults: ['(\\'\"*\"\\', \\'\"asdfsadfwefweuwhtu3t\"\\')']\n",
      "test: '\"asdfsadfwefweu\\nwhtu3t\"'\tresults: ['(\\'\"*\"\\', \\'\"asdfsadfwefweu\\\\nwhtu3t\"\\')']\n",
      "test: '123456'\tresults: [\"('int', '123456')\"]\n",
      "test: '-457645'\tresults: [\"('int', '-457645')\"]\n",
      "test: '1'\tresults: [\"('int', '1')\"]\n",
      "test: '--123'\tresults: []\n",
      "test: '.'\tresults: []\n",
      "test: '..'\tresults: []\n",
      "test: '.*'\tresults: []\n",
      "test: '1*'\tresults: [\"('int', '1')\"]\n",
      "test: '.07'\tresults: [\"('float', '.07')\"]\n",
      "test: '1.17'\tresults: [\"('int', '1')\", \"('float', '1.17')\"]\n",
      "test: '12.'\tresults: [\"('int', '12')\", \"('float', '12.')\"]\n",
      "test: '-.89'\tresults: [\"('float', '-.89')\"]\n",
      "test: '-134.23'\tresults: [\"('int', '-134')\", \"('float', '-134.23')\"]\n",
      "test: '-1453.'\tresults: [\"('int', '-1453')\", \"('float', '-1453.')\"]\n",
      "test: '.12'\tresults: [\"('float', '.12')\"]\n",
      "test: '1.12.1'\tresults: [\"('int', '1')\", \"('float', '1.12')\"]\n",
      "test: '--1453'\tresults: []\n",
      "test: 'True'\tresults: [\"('bool', 'True')\", \"('iden', 'True')\"]\n",
      "test: 'False'\tresults: [\"('bool', 'False')\", \"('iden', 'False')\"]\n",
      "test: 'Var_1'\tresults: [\"('iden', 'Var_1')\"]\n",
      "test: '_1var_1'\tresults: [\"('iden', '_1var_1')\"]\n",
      "test: '__iden__'\tresults: [\"('iden', '__iden__')\"]\n",
      "test: '__1234__'\tresults: [\"('iden', '__1234__')\"]\n",
      "test: '12_var'\tresults: [\"('int', '12')\"]\n",
      "test: '# This is a comment\\n'\tresults: [\"('#', '# This is a comment')\"]\n",
      "test: '/* This is\\nalso a\\n comment */'\tresults: [\"('#', '/* This is\\\\nalso a\\\\n comment */')\"]\n",
      "test: '/* *** */'\tresults: [\"('#', '/* *** */')\"]\n"
     ]
    }
   ],
   "metadata": {}
  },
  {
   "cell_type": "code",
   "execution_count": null,
   "source": [],
   "outputs": [],
   "metadata": {}
  }
 ],
 "metadata": {
  "orig_nbformat": 4,
  "language_info": {
   "name": "python",
   "version": "3.9.5",
   "mimetype": "text/x-python",
   "codemirror_mode": {
    "name": "ipython",
    "version": 3
   },
   "pygments_lexer": "ipython3",
   "nbconvert_exporter": "python",
   "file_extension": ".py"
  },
  "kernelspec": {
   "name": "python3",
   "display_name": "Python 3.9.5 64-bit"
  },
  "interpreter": {
   "hash": "916dbcbb3f70747c44a77c7bcd40155683ae19c65e1c03b4aa3499c5328201f1"
  }
 },
 "nbformat": 4,
 "nbformat_minor": 2
}