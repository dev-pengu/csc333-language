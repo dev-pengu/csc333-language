{
 "cells": [
  {
   "cell_type": "code",
   "execution_count": 1,
   "metadata": {},
   "outputs": [],
   "source": [
    "import sys\n",
    "from AST_Nodes import *"
   ]
  },
  {
   "cell_type": "code",
   "execution_count": 2,
   "metadata": {},
   "outputs": [
    {
     "name": "stdout",
     "output_type": "stream",
     "text": [
      "isinstance(parent_class(), parent_class) True\n",
      "isinstance(parent_class(), child_class) False\n",
      "isinstance(child_class(), parent_class) True\n",
      "isinstance(child_class(), child_class) True\n"
     ]
    }
   ],
   "source": [
    "class parent_class():\n",
    "    pass\n",
    "class child_class(parent_class):\n",
    "    pass\n",
    "\n",
    "print(\"isinstance(parent_class(), parent_class)\", isinstance(parent_class(), parent_class))\n",
    "print(\"isinstance(parent_class(), child_class)\", isinstance(parent_class(), child_class))\n",
    "print(\"isinstance(child_class(), parent_class)\", isinstance(child_class(), parent_class))\n",
    "print(\"isinstance(child_class(), child_class)\", isinstance(child_class(), child_class))"
   ]
  },
  {
   "cell_type": "code",
   "execution_count": 3,
   "metadata": {},
   "outputs": [],
   "source": [
    "# class AST_Build_Error(BaseException):\n",
    "#     \"\"\"Exception raised for errors during the AST building process.\n",
    "\n",
    "#     Attributes:\n",
    "#         expression -- input expression in which the error occurred\n",
    "#         message -- explanation of the error\n",
    "#     \"\"\"\n",
    "\n",
    "#     def __init__(self, message: str) -> None:\n",
    "#         self.message = message\n",
    "\n",
    "# raise AST_Build_Error(\"test error\")"
   ]
  },
  {
   "cell_type": "code",
   "execution_count": 4,
   "metadata": {},
   "outputs": [
    {
     "name": "stdout",
     "output_type": "stream",
     "text": [
      "{'undefined': 0, 'int': 1, 'float': 2, 'bool': 3, 'str': 4}\n"
     ]
    }
   ],
   "source": [
    "print(Type_Enum)"
   ]
  },
  {
   "cell_type": "code",
   "execution_count": 5,
   "metadata": {},
   "outputs": [
    {
     "name": "stdout",
     "output_type": "stream",
     "text": [
      "30\n",
      "{}\n"
     ]
    }
   ],
   "source": [
    "\"\"\"\n",
    "Problem 1:\n",
    "    9 + 7 * 3\n",
    "\"\"\"\n",
    "### Write AST code here:\n",
    "literal_9 = AST_Literal(9, Type_Enum.int)\n",
    "literal_7 = AST_Literal(7, Type_Enum.int)\n",
    "literal_3 = AST_Literal(3, Type_Enum.int)\n",
    "\n",
    "expression_mult_1 = AST_Expression_Multiplication()\n",
    "expression_add_1 = AST_Expression_Addition()\n",
    "\n",
    "expression_mult_1.affix_nodes(literal_7, literal_3)\n",
    "expression_add_1.affix_nodes(literal_9, expression_mult_1)\n",
    "\n",
    "d, ns = Abstract_Syntax_Tree(expression_add_1).walk()\n",
    "\n",
    "print(d.get_value())\n",
    "print(ns._name_space)"
   ]
  },
  {
   "cell_type": "code",
   "execution_count": 6,
   "metadata": {},
   "outputs": [
    {
     "name": "stdout",
     "output_type": "stream",
     "text": [
      "AST_Print: type: 1  value: 9\n",
      "None\n",
      "{'x': {'_value': 9, '_type': 1, '_name': 'x'}}\n"
     ]
    }
   ],
   "source": [
    "\"\"\"\n",
    "Problem 2:\n",
    "    x = 9\n",
    "    print(x)\n",
    "\"\"\"\n",
    "### Write AST code here:\n",
    "\n",
    "identifier_x_1 = AST_Identifier(\"x\")\n",
    "literal_9_2 = AST_Literal(9, Type_Enum.int)\n",
    "\n",
    "asn_1 = AST_Statement_Assignment()\n",
    "asn_1.affix_nodes(identifier_x_1, literal_9_2)\n",
    "\n",
    "identifier_x_2 = AST_Identifier(\"x\")\n",
    "print_1 = AST_Function_Print()\n",
    "print_1.affix_nodes(identifier_x_2)\n",
    "\n",
    "block_1 = AST_Block_List()\n",
    "block_1.affix_nodes(asn_1, print_1)\n",
    "\n",
    "\n",
    "d, ns = Abstract_Syntax_Tree(block_1).walk()\n",
    "\n",
    "print(d.get_value())\n",
    "print(ns._name_space)"
   ]
  },
  {
   "cell_type": "code",
   "execution_count": 7,
   "metadata": {},
   "outputs": [
    {
     "name": "stdout",
     "output_type": "stream",
     "text": [
      "AST_Print: type: 2  value: 1.5\n",
      "None\n",
      "{'x': {'_value': 10, '_type': 1, '_name': 'x'}, 'y': {'_value': 15, '_type': 1, '_name': 'y'}}\n"
     ]
    }
   ],
   "source": [
    "\"\"\"\n",
    "Problem 3:\n",
    "    x = 10 \n",
    "    y = 5 + x\n",
    "    print(y / x)\n",
    "\"\"\"\n",
    "### Write AST code here:\n",
    "\n",
    "identifier_x_1 = AST_Identifier(\"x\")\n",
    "literal_10_1 = AST_Literal(10, Type_Enum.int)\n",
    "\n",
    "asn_1 = AST_Statement_Assignment()\n",
    "asn_1.affix_nodes(identifier_x_1, literal_10_1)\n",
    "\n",
    "literal_5_1 = AST_Literal(5, Type_Enum.int)\n",
    "\n",
    "expression_add = AST_Expression_Addition()\n",
    "expression_add.affix_nodes(literal_5_1, identifier_x_1)\n",
    "identifer_y_1 = AST_Identifier(\"y\")\n",
    "\n",
    "asn_2 = AST_Statement_Assignment()\n",
    "asn_2.affix_nodes(identifer_y_1, expression_add)\n",
    "\n",
    "expression_division = AST_Expression_Division()\n",
    "expression_division.affix_nodes(identifer_y_1, identifier_x_1)\n",
    "\n",
    "print_1 = AST_Function_Print()\n",
    "print_1.affix_nodes(expression_division)\n",
    "\n",
    "block_1 = AST_Block_List()\n",
    "block_1.affix_nodes(asn_1, asn_2)\n",
    "\n",
    "block_2 = AST_Block_List()\n",
    "block_2.affix_nodes(block_1, print_1)\n",
    "\n",
    "d, ns = Abstract_Syntax_Tree(block_2).walk()\n",
    "\n",
    "print(d.get_value())\n",
    "print(ns._name_space)"
   ]
  },
  {
   "cell_type": "code",
   "execution_count": 10,
   "metadata": {},
   "outputs": [
    {
     "name": "stdout",
     "output_type": "stream",
     "text": [
      "AST_Print: type: 2  value: 14.0\n",
      "None\n",
      "{'x': {'_value': 2.0, '_type': 2, '_name': 'x'}, 'y': {'_value': 14.0, '_type': 2, '_name': 'y'}}\n"
     ]
    }
   ],
   "source": [
    "\"\"\"\n",
    "Problem 4:\n",
    "    Write code with at least 3 numbers, 1 variable both used during an assignment statement and in an expression,\n",
    "        3 mathmatical operators, a block_list and the print statement.\n",
    "    Then build and run the AST for your code.\n",
    "    x = 3 / 1.5\n",
    "    y = x + 6 * 2\n",
    "    print(y)\n",
    "    \n",
    "\"\"\"\n",
    "### Write AST code here:\n",
    "identifier_x_1 = AST_Identifier(\"x\")\n",
    "literal_3_1 = AST_Literal(3, Type_Enum.int)\n",
    "literal_1_5_1 = AST_Literal(1.5, Type_Enum.float)\n",
    "\n",
    "expression_division_1 = AST_Expression_Division()\n",
    "expression_division_1.affix_nodes(literal_3_1, literal_1_5_1)\n",
    "\n",
    "asn_1 = AST_Statement_Assignment()\n",
    "asn_1.affix_nodes(identifier_x_1, expression_division_1)\n",
    "\n",
    "identifier_y_1 = AST_Identifier(\"y\")\n",
    "literal_6_1 = AST_Literal(6, Type_Enum.int)\n",
    "literal_2_1 = AST_Literal(2, Type_Enum.int)\n",
    "\n",
    "expression_mult_1 = AST_Expression_Multiplication()\n",
    "expression_mult_1.affix_nodes(literal_6_1, literal_2_1)\n",
    "\n",
    "expression_add_1 = AST_Expression_Addition()\n",
    "expression_add_1.affix_nodes(identifier_x_1, expression_mult_1)\n",
    "\n",
    "asn_2 = AST_Statement_Assignment()\n",
    "asn_2.affix_nodes(identifier_y_1, expression_add_1)\n",
    "\n",
    "print_1 = AST_Function_Print()\n",
    "print_1.affix_nodes(identifier_y_1)\n",
    "\n",
    "block_1 = AST_Block_List()\n",
    "block_1.affix_nodes(asn_1, asn_2)\n",
    "\n",
    "block_2 = AST_Block_List()\n",
    "block_2.affix_nodes(block_1, print_1)\n",
    "\n",
    "\n",
    "\n",
    "d, ns = Abstract_Syntax_Tree(block_2).walk()\n",
    "\n",
    "print(d.get_value())\n",
    "print(ns._name_space)"
   ]
  },
  {
   "cell_type": "code",
   "execution_count": null,
   "metadata": {},
   "outputs": [],
   "source": []
  }
 ],
 "metadata": {
  "interpreter": {
   "hash": "0b064825b98f79cc252d436b7c3f7fbce74ada5c39e0fca21c7673854dcee0c9"
  },
  "kernelspec": {
   "display_name": "Python 3 (ipykernel)",
   "language": "python",
   "name": "python3"
  },
  "language_info": {
   "codemirror_mode": {
    "name": "ipython",
    "version": 3
   },
   "file_extension": ".py",
   "mimetype": "text/x-python",
   "name": "python",
   "nbconvert_exporter": "python",
   "pygments_lexer": "ipython3",
   "version": "3.9.5"
  }
 },
 "nbformat": 4,
 "nbformat_minor": 2
}
