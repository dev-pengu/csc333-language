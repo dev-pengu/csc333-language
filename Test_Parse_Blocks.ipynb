{
 "cells": [
  {
   "cell_type": "code",
   "execution_count": 1,
   "metadata": {},
   "outputs": [],
   "source": [
    "from Parser.Parse_Blocks import Parse_Blocks\n",
    "from Lexer.Lexer import Lexer\n",
    "from AST.AST_Nodes import Abstract_Syntax_Tree"
   ]
  },
  {
   "cell_type": "code",
   "execution_count": 2,
   "metadata": {},
   "outputs": [],
   "source": [
    "lexer = Lexer()"
   ]
  },
  {
   "cell_type": "code",
   "execution_count": 5,
   "metadata": {},
   "outputs": [
    {
     "name": "stdout",
     "output_type": "stream",
     "text": [
      "id: 1\twalk count: 1\n",
      "id: 2\twalk count: 1\n",
      "id: 3\twalk count: 1\n",
      "id: 4\twalk count: 1\n",
      "id: 5\twalk count: 1\n",
      "None\n",
      "{}\n"
     ]
    }
   ],
   "source": [
    "char_stream_2 = \"\"\"\n",
    "i = 42;\n",
    "j = 35;\n",
    "while (i != j){\n",
    "    if (i > j){\n",
    "        i = i - j;\n",
    "    } else {\n",
    "        j = j - i;\n",
    "    };\n",
    "};\n",
    "print(\"i is equal to\");\n",
    "print(i);\n",
    "\"\"\"\n",
    "\n",
    "tokens = lexer.match_tokens(char_stream_2)\n",
    "root_node = Parse_Blocks(tokens)\n",
    "d, ns = Abstract_Syntax_Tree(root_node).walk()\n",
    "\n",
    "print(d.get_value())\n",
    "print(ns._name_space)\n"
   ]
  }
 ],
 "metadata": {
  "interpreter": {
   "hash": "b0fa6594d8f4cbf19f97940f81e996739fb7646882a419484c72d19e05852a7e"
  },
  "kernelspec": {
   "display_name": "Python 3.9.7 64-bit",
   "name": "python3"
  },
  "language_info": {
   "codemirror_mode": {
    "name": "ipython",
    "version": 3
   },
   "file_extension": ".py",
   "mimetype": "text/x-python",
   "name": "python",
   "nbconvert_exporter": "python",
   "pygments_lexer": "ipython3",
   "version": "3.9.7"
  },
  "orig_nbformat": 4
 },
 "nbformat": 4,
 "nbformat_minor": 2
}
