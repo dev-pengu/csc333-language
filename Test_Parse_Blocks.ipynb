{
 "cells": [
  {
   "cell_type": "code",
   "execution_count": 1,
   "metadata": {},
   "outputs": [],
   "source": [
    "from Parser.Parse_Blocks import Parse_Blocks\n",
    "from Lexer.Lexer import Lexer\n",
    "from AST.AST_Nodes import Abstract_Syntax_Tree"
   ]
  },
  {
   "cell_type": "code",
   "execution_count": 2,
   "metadata": {},
   "outputs": [],
   "source": [
    "lexer = Lexer()"
   ]
  },
  {
   "cell_type": "code",
   "execution_count": 3,
   "metadata": {},
   "outputs": [
    {
     "name": "stdout",
     "output_type": "stream",
     "text": [
      "\t\texpression  1937501672868380033  times_walked: 1\n",
      "\t\texpression  3651632777605823918  times_walked: 1\n",
      "\t\texpression  7173515953627370926  times_walked: 1\n",
      "\t\texpression  6850203377197207881  times_walked: 1\n",
      "\t\texpression  1686607634566651036  times_walked: 1\n",
      "\t\texpression  7173515953627370926  times_walked: 2\n",
      "\t\texpression  6850203377197207881  times_walked: 2\n",
      "\t\texpression  1686607634566651036  times_walked: 2\n",
      "\t\texpression  7173515953627370926  times_walked: 3\n",
      "\t\texpression  730805752527218524  times_walked: 1\n",
      "\t\texpression  4993313451797986582  times_walked: 1\n",
      "None\n",
      "{}\n"
     ]
    }
   ],
   "source": [
    "char_stream = \"\"\"\n",
    "i = 42;\n",
    "j = 35;\n",
    "while (i != j){\n",
    "    if (i > j){\n",
    "        i = i - j;\n",
    "    } else {\n",
    "        j = j - i;\n",
    "    };\n",
    "};\n",
    "print(\"i is equal to\");\n",
    "print(i);\n",
    "\"\"\"\n",
    "\n",
    "tokens = lexer.match_tokens(char_stream)\n",
    "root_node = Parse_Blocks(tokens)\n",
    "d, ns = Abstract_Syntax_Tree(root_node).walk()\n",
    "\n",
    "print(d.get_value())\n",
    "print(ns._name_space)"
   ]
  },
  {
   "cell_type": "code",
   "execution_count": 4,
   "metadata": {},
   "outputs": [
    {
     "name": "stdout",
     "output_type": "stream",
     "text": [
      "\t\texpression  6641483921235137970  times_walked: 1\n",
      "\t\texpression  3321852455918268373  times_walked: 1\n",
      "\t\texpression  7287338908898686981  times_walked: 1\n",
      "\t\texpression  6641483921235137970  times_walked: 2\n",
      "\t\texpression  3321852455918268373  times_walked: 2\n",
      "\t\texpression  7287338908898686981  times_walked: 2\n",
      "\t\texpression  6641483921235137970  times_walked: 3\n",
      "None\n",
      "{}\n"
     ]
    }
   ],
   "source": [
    "char_stream_2 = \"\"\"\n",
    "while (i != j){\n",
    "    if (i > j){\n",
    "        i = i - j;\n",
    "    } else {\n",
    "        j = j - i;\n",
    "    };\n",
    "};\n",
    "\"\"\"\n",
    "\n",
    "tokens = lexer.match_tokens(char_stream_2)\n",
    "root_node = Parse_Blocks(tokens)\n",
    "d, ns = Abstract_Syntax_Tree(root_node).walk()\n",
    "\n",
    "print(d.get_value())\n",
    "print(ns._name_space)\n"
   ]
  },
  {
   "cell_type": "code",
   "execution_count": 7,
   "metadata": {},
   "outputs": [
    {
     "name": "stdout",
     "output_type": "stream",
     "text": [
      "\t\texpression  6679736374945763224  times_walked: 1\n",
      "\t\texpression  8491279205599914351  times_walked: 1\n",
      "None\n",
      "{}\n"
     ]
    }
   ],
   "source": [
    "char_stream_3 = \"\"\"\n",
    "if (i > j){\n",
    "    i = i - j;\n",
    "} else {\n",
    "    j = j - i;\n",
    "};\n",
    "\"\"\"\n",
    "\n",
    "tokens = lexer.match_tokens(char_stream_3)\n",
    "root_node = Parse_Blocks(tokens)\n",
    "d, ns = Abstract_Syntax_Tree(root_node).walk()\n",
    "\n",
    "print(d.get_value())\n",
    "print(ns._name_space)"
   ]
  }
 ],
 "metadata": {
  "interpreter": {
   "hash": "b0fa6594d8f4cbf19f97940f81e996739fb7646882a419484c72d19e05852a7e"
  },
  "kernelspec": {
   "display_name": "Python 3.9.7 64-bit",
   "name": "python3"
  },
  "language_info": {
   "codemirror_mode": {
    "name": "ipython",
    "version": 3
   },
   "file_extension": ".py",
   "mimetype": "text/x-python",
   "name": "python",
   "nbconvert_exporter": "python",
   "pygments_lexer": "ipython3",
   "version": "3.9.8"
  },
  "orig_nbformat": 4
 },
 "nbformat": 4,
 "nbformat_minor": 2
}
